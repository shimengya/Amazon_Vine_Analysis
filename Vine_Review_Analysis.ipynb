{
  "nbformat": 4,
  "nbformat_minor": 0,
  "metadata": {
    "colab": {
      "provenance": []
    },
    "kernelspec": {
      "name": "python3",
      "display_name": "Python 3"
    },
    "language_info": {
      "name": "python"
    }
  },
  "cells": [
    {
      "cell_type": "code",
      "execution_count": 1,
      "metadata": {
        "colab": {
          "base_uri": "https://localhost:8080/"
        },
        "id": "EcpUs1ypu9o2",
        "outputId": "e57f29a2-b36a-4038-c9ec-2aafdacf3086"
      },
      "outputs": [
        {
          "output_type": "stream",
          "name": "stdout",
          "text": [
            "Get:1 https://cloud.r-project.org/bin/linux/ubuntu bionic-cran40/ InRelease [3,626 B]\n",
            "Ign:2 https://developer.download.nvidia.com/compute/machine-learning/repos/ubuntu1804/x86_64  InRelease\n",
            "Get:3 http://security.ubuntu.com/ubuntu bionic-security InRelease [88.7 kB]\n",
            "Hit:4 https://developer.download.nvidia.com/compute/cuda/repos/ubuntu1804/x86_64  InRelease\n",
            "Hit:5 https://developer.download.nvidia.com/compute/machine-learning/repos/ubuntu1804/x86_64  Release\n",
            "Hit:6 http://archive.ubuntu.com/ubuntu bionic InRelease\n",
            "Hit:7 http://ppa.launchpad.net/c2d4u.team/c2d4u4.0+/ubuntu bionic InRelease\n",
            "Get:8 http://archive.ubuntu.com/ubuntu bionic-updates InRelease [88.7 kB]\n",
            "Hit:9 http://ppa.launchpad.net/cran/libgit2/ubuntu bionic InRelease\n",
            "Hit:10 http://ppa.launchpad.net/deadsnakes/ppa/ubuntu bionic InRelease\n",
            "Get:11 http://archive.ubuntu.com/ubuntu bionic-backports InRelease [83.3 kB]\n",
            "Hit:12 http://ppa.launchpad.net/graphics-drivers/ppa/ubuntu bionic InRelease\n",
            "Fetched 264 kB in 4s (61.9 kB/s)\n",
            "Reading package lists... Done\n"
          ]
        }
      ],
      "source": [
        "import os\n",
        "# Find the latest version of spark 3.0  from http://www.apache.org/dist/spark/ and enter as the spark version\n",
        "# For example:\n",
        "# spark_version = 'spark-3.0.3'\n",
        "spark_version = 'spark-3.3.1'\n",
        "os.environ['SPARK_VERSION']=spark_version\n",
        "\n",
        "# Install Spark and Java\n",
        "!apt-get update\n",
        "!apt-get install openjdk-11-jdk-headless -qq > /dev/null\n",
        "!wget -q http://www.apache.org/dist/spark/$SPARK_VERSION/$SPARK_VERSION-bin-hadoop2.tgz\n",
        "!tar xf $SPARK_VERSION-bin-hadoop2.tgz\n",
        "!pip install -q findspark\n",
        "\n",
        "# Set Environment Variables\n",
        "import os\n",
        "os.environ[\"JAVA_HOME\"] = \"/usr/lib/jvm/java-11-openjdk-amd64\"\n",
        "os.environ[\"SPARK_HOME\"] = f\"/content/{spark_version}-bin-hadoop2\"\n",
        "\n",
        "# Start a SparkSession\n",
        "import findspark\n",
        "findspark.init()"
      ]
    },
    {
      "cell_type": "code",
      "source": [
        "from pyspark.sql import SparkSession\n",
        "spark = SparkSession.builder.appName(\"Vine_Review_Analysis\").config(\"spark.driver.extraClassPath\",\"/content/postgresql-42.2.16.jar\").getOrCreate()"
      ],
      "metadata": {
        "id": "hS8VQyMCvMeD"
      },
      "execution_count": 2,
      "outputs": []
    },
    {
      "cell_type": "code",
      "source": [
        "from pyspark import SparkFiles\n",
        "url = \"https://s3.amazonaws.com/amazon-reviews-pds/tsv/amazon_reviews_us_Kitchen_v1_00.tsv.gz\"\n",
        "spark.sparkContext.addFile(url)\n",
        "df = spark.read.option(\"encoding\", \"UTF-8\").csv(SparkFiles.get(\"amazon_reviews_us_Kitchen_v1_00.tsv.gz\"), sep=\"\\t\", header=True, inferSchema=True)\n",
        "df.show()"
      ],
      "metadata": {
        "colab": {
          "base_uri": "https://localhost:8080/"
        },
        "id": "By9yI6PvvUsw",
        "outputId": "48f8deca-2f92-4a07-f1fb-96b206255f00"
      },
      "execution_count": 3,
      "outputs": [
        {
          "output_type": "stream",
          "name": "stdout",
          "text": [
            "+-----------+-----------+--------------+----------+--------------+--------------------+----------------+-----------+-------------+-----------+----+-----------------+--------------------+--------------------+-------------------+\n",
            "|marketplace|customer_id|     review_id|product_id|product_parent|       product_title|product_category|star_rating|helpful_votes|total_votes|vine|verified_purchase|     review_headline|         review_body|        review_date|\n",
            "+-----------+-----------+--------------+----------+--------------+--------------------+----------------+-----------+-------------+-----------+----+-----------------+--------------------+--------------------+-------------------+\n",
            "|         US|   37000337|R3DT59XH7HXR9K|B00303FI0G|     529320574|Arthur Court Pape...|         Kitchen|          5|            0|          0|   N|                Y|Beautiful. Looks ...|Beautiful.  Looks...|2015-08-31 00:00:00|\n",
            "|         US|   15272914|R1LFS11BNASSU8|B00JCZKZN6|     274237558|Olde Thompson Bav...|         Kitchen|          5|            0|          1|   N|                Y| Awesome & Self-ness|I personally have...|2015-08-31 00:00:00|\n",
            "|         US|   36137863|R296RT05AG0AF6|B00JLIKA5C|     544675303|Progressive Inter...|         Kitchen|          5|            0|          0|   N|                Y|Fabulous and wort...|Fabulous and wort...|2015-08-31 00:00:00|\n",
            "|         US|   43311049|R3V37XDZ7ZCI3L|B000GBNB8G|     491599489|Zyliss Jumbo Garl...|         Kitchen|          5|            0|          1|   N|                Y|          Five Stars|A must if you lov...|2015-08-31 00:00:00|\n",
            "|         US|   13763148|R14GU232NQFYX2|B00VJ5KX9S|     353790155|1 X Premier Pizza...|         Kitchen|          5|            0|          0|   N|                Y|     Better than sex|Worth every penny...|2015-08-31 00:00:00|\n",
            "|         US|   19009420| RZQH4V7L2O1PL|B00HYB5YY0|     432241873|       CHEF Aluminum|         Kitchen|          1|            1|          1|   N|                Y|Does not work on ...|The description s...|2015-08-31 00:00:00|\n",
            "|         US|   40599388|R1F8JMOSPJ3KO7|B000HEBAV2|     584680984|Presto Dual Profr...|         Kitchen|          5|            0|          0|   N|                Y|Awesome! First fr...|Awesome! First fr...|2015-08-31 00:00:00|\n",
            "|         US|   22719359|R1ZISGY2BWW4Z5|B0012DS4GG|     772637306|Rubbermaid Produc...|         Kitchen|          5|            0|          0|   N|                Y|          Five Stars|Very good item. Q...|2015-08-31 00:00:00|\n",
            "|         US|   47478640|R17PW4I3AE5WZW|B00FLQ4EE6|     755416578|Cuisinart 12-Piec...|         Kitchen|          5|            0|          0|   N|                Y|          Five Stars|sharp and look great|2015-08-31 00:00:00|\n",
            "|         US|   34195504|R3D93G1KTP6A8P|B00DBS9OTG|     648762742|Kegco 6\" Stainles...|         Kitchen|          3|            0|          0|   N|                Y|         Three Stars|Should have come ...|2015-08-31 00:00:00|\n",
            "|         US|   19100570|R18TQIW1NKPUNU|B00AN9UJ68|     495720940|Cuisinart Smart S...|         Kitchen|          5|            0|          0|   N|                Y|          Five Stars|  my friend loves it|2015-08-31 00:00:00|\n",
            "|         US|   10299811|R34KUNL21WU248|B00L2P0KNO|      41330497|Searzall Torch At...|         Kitchen|          4|            0|          0|   N|                Y|          Four Stars|works as expected...|2015-08-31 00:00:00|\n",
            "|         US|   32687006|R2YA1ZA53X12IN|B00NQOJQXY|     191893454|Wilton 1512-1664 ...|         Kitchen|          5|            0|          0|   N|                Y|               great|               great|2015-08-31 00:00:00|\n",
            "|         US|   43260893|R2ZD1IGC9UU55X|B00080QE1Q|     277442428|Magnalite Classic...|         Kitchen|          5|            1|          1|   N|                Y|         Great Pots!|Fantastic product...|2015-08-31 00:00:00|\n",
            "|         US|    8067227| R9J2YMVZTUVZ7|B009VU17ZM|     414077276|Sun's Tea(TM) 20o...|         Kitchen|          5|            0|          0|   N|                Y|          Five Stars|Work great, well ...|2015-08-31 00:00:00|\n",
            "|         US|   18139929|R2UUXJ0WQR0CNI|B00MY71KO2|     138697457|Adventure Time Be...|         Kitchen|          4|            0|          0|   N|                Y|              So big|holds a loooot of...|2015-08-31 00:00:00|\n",
            "|         US|   12282702|R3S9QICITG73JZ|B00A6N18CK|      48180946|DecoBros 3 Tier D...|         Kitchen|          5|            0|          0|   N|                Y|It looks nice & n...|The DecoBros K cu...|2015-08-31 00:00:00|\n",
            "|         US|   38649737|R3LISNJHS64PDA|B00AB8NOLS|      67759108|Brita Water Filte...|         Kitchen|          4|            0|          0|   N|                Y|          Four Stars| Met my expectations|2015-08-31 00:00:00|\n",
            "|         US|   33460969|R28RB82UG4RDD5|B00FB4UPA0|      10711472|Nifty Home 24 K-C...|         Kitchen|          5|           20|         20|   N|                Y| Saves counter space|Fits under my ful...|2015-08-31 00:00:00|\n",
            "|         US|   40274860|R3H0PRVII5991X|B00YMHBQ0A|     618617346|Eoonfirst Snoopy ...|         Kitchen|          5|            0|          0|   N|                Y|          Five Stars|            Love it!|2015-08-31 00:00:00|\n",
            "+-----------+-----------+--------------+----------+--------------+--------------------+----------------+-----------+-------------+-----------+----+-----------------+--------------------+--------------------+-------------------+\n",
            "only showing top 20 rows\n",
            "\n"
          ]
        }
      ]
    },
    {
      "cell_type": "code",
      "source": [
        "# Create the vine_table. DataFrame\n",
        "# vine_df = df.select([])\n",
        "vine_table = df.select(['review_id', 'star_rating', 'helpful_votes', 'total_votes', 'vine', 'verified_purchase'])\n",
        "vine_table.show()"
      ],
      "metadata": {
        "colab": {
          "base_uri": "https://localhost:8080/"
        },
        "id": "tqaO7bJcvhRH",
        "outputId": "938bf8c9-5a23-470f-fd70-40b3cdc9bc5e"
      },
      "execution_count": 4,
      "outputs": [
        {
          "output_type": "stream",
          "name": "stdout",
          "text": [
            "+--------------+-----------+-------------+-----------+----+-----------------+\n",
            "|     review_id|star_rating|helpful_votes|total_votes|vine|verified_purchase|\n",
            "+--------------+-----------+-------------+-----------+----+-----------------+\n",
            "|R3DT59XH7HXR9K|          5|            0|          0|   N|                Y|\n",
            "|R1LFS11BNASSU8|          5|            0|          1|   N|                Y|\n",
            "|R296RT05AG0AF6|          5|            0|          0|   N|                Y|\n",
            "|R3V37XDZ7ZCI3L|          5|            0|          1|   N|                Y|\n",
            "|R14GU232NQFYX2|          5|            0|          0|   N|                Y|\n",
            "| RZQH4V7L2O1PL|          1|            1|          1|   N|                Y|\n",
            "|R1F8JMOSPJ3KO7|          5|            0|          0|   N|                Y|\n",
            "|R1ZISGY2BWW4Z5|          5|            0|          0|   N|                Y|\n",
            "|R17PW4I3AE5WZW|          5|            0|          0|   N|                Y|\n",
            "|R3D93G1KTP6A8P|          3|            0|          0|   N|                Y|\n",
            "|R18TQIW1NKPUNU|          5|            0|          0|   N|                Y|\n",
            "|R34KUNL21WU248|          4|            0|          0|   N|                Y|\n",
            "|R2YA1ZA53X12IN|          5|            0|          0|   N|                Y|\n",
            "|R2ZD1IGC9UU55X|          5|            1|          1|   N|                Y|\n",
            "| R9J2YMVZTUVZ7|          5|            0|          0|   N|                Y|\n",
            "|R2UUXJ0WQR0CNI|          4|            0|          0|   N|                Y|\n",
            "|R3S9QICITG73JZ|          5|            0|          0|   N|                Y|\n",
            "|R3LISNJHS64PDA|          4|            0|          0|   N|                Y|\n",
            "|R28RB82UG4RDD5|          5|           20|         20|   N|                Y|\n",
            "|R3H0PRVII5991X|          5|            0|          0|   N|                Y|\n",
            "+--------------+-----------+-------------+-----------+----+-----------------+\n",
            "only showing top 20 rows\n",
            "\n"
          ]
        }
      ]
    },
    {
      "cell_type": "code",
      "source": [
        "# The data is filtered to create a DataFrame or table where there are 20 or more total votes\n",
        "\n",
        "total_votes_20_df = vine_table.filter('total_votes >= 20')\n",
        "total_votes_20_df.count()"
      ],
      "metadata": {
        "colab": {
          "base_uri": "https://localhost:8080/"
        },
        "id": "RFjRtSIAvi4n",
        "outputId": "579155b9-9896-4407-a18b-50c979889ba8"
      },
      "execution_count": 5,
      "outputs": [
        {
          "output_type": "execute_result",
          "data": {
            "text/plain": [
              "107421"
            ]
          },
          "metadata": {},
          "execution_count": 5
        }
      ]
    },
    {
      "cell_type": "code",
      "source": [
        "# The data is filtered to create a DataFrame or table where there is a Vine review, total_votes is equal to or greater than 50%\n",
        "\n",
        "import pyspark.sql.functions as F\n",
        "\n",
        "helpful_total_df = total_votes_20_df.withColumn('help_perct', F.round((total_votes_20_df.helpful_votes/total_votes_20_df.total_votes)*100,2))\n",
        "cleaned_help_perct_df = helpful_total_df.filter('help_perct >= 50')\n",
        "cleaned_help_perct_df.count()"
      ],
      "metadata": {
        "colab": {
          "base_uri": "https://localhost:8080/"
        },
        "id": "J-MyPJnavpZ2",
        "outputId": "fda7ea0d-6a60-4042-efad-edc85d86c203"
      },
      "execution_count": 6,
      "outputs": [
        {
          "output_type": "execute_result",
          "data": {
            "text/plain": [
              "99046"
            ]
          },
          "metadata": {},
          "execution_count": 6
        }
      ]
    },
    {
      "cell_type": "code",
      "source": [
        "# The data is filtered to create a DataFrame or table where there is a Vine review\n",
        "\n",
        "paid_vine_df = cleaned_help_perct_df.filter(\"vine =='Y'\")\n",
        "paid_vine_df.count()"
      ],
      "metadata": {
        "colab": {
          "base_uri": "https://localhost:8080/"
        },
        "id": "gKjx0u4eyK8E",
        "outputId": "87d66a1e-7998-4c10-c43e-3aeadcca2cab"
      },
      "execution_count": 7,
      "outputs": [
        {
          "output_type": "execute_result",
          "data": {
            "text/plain": [
              "1207"
            ]
          },
          "metadata": {},
          "execution_count": 7
        }
      ]
    },
    {
      "cell_type": "code",
      "source": [
        "# The data is filtered to create a DataFrame or table where there isn’t a Vine review\n",
        "\n",
        "unpaid_vine_df = cleaned_help_perct_df.filter(\"vine =='N'\")\n",
        "unpaid_vine_df.count()"
      ],
      "metadata": {
        "colab": {
          "base_uri": "https://localhost:8080/"
        },
        "id": "DPf5t-5ZyMY6",
        "outputId": "a077db37-92e7-46b0-ffe0-dfbbd26ff6d7"
      },
      "execution_count": 8,
      "outputs": [
        {
          "output_type": "execute_result",
          "data": {
            "text/plain": [
              "97839"
            ]
          },
          "metadata": {},
          "execution_count": 8
        }
      ]
    },
    {
      "cell_type": "code",
      "source": [
        "# The total number of reviews, the number of 5-star reviews, and the percentage 5-star reviews are calculated for all Vine and non-Vine reviews \n",
        "\n",
        "total_5_star = cleaned_help_perct_df.filter('star_rating == 5').count()\n",
        "total_5_star"
      ],
      "metadata": {
        "colab": {
          "base_uri": "https://localhost:8080/"
        },
        "id": "PjsftV87zCBA",
        "outputId": "0d2c2333-169b-41f0-dfe6-b433aff4930e"
      },
      "execution_count": 9,
      "outputs": [
        {
          "output_type": "execute_result",
          "data": {
            "text/plain": [
              "46367"
            ]
          },
          "metadata": {},
          "execution_count": 9
        }
      ]
    },
    {
      "cell_type": "code",
      "source": [
        "total_1_star = cleaned_help_perct_df.filter('star_rating == 1').count()\n",
        "total_1_star"
      ],
      "metadata": {
        "colab": {
          "base_uri": "https://localhost:8080/"
        },
        "id": "5afoqHYxxOVy",
        "outputId": "d140d19d-e18f-4ce4-bd82-2b385172d241"
      },
      "execution_count": 10,
      "outputs": [
        {
          "output_type": "execute_result",
          "data": {
            "text/plain": [
              "22561"
            ]
          },
          "metadata": {},
          "execution_count": 10
        }
      ]
    },
    {
      "cell_type": "code",
      "source": [
        "total_reviews = cleaned_help_perct_df.count()\n",
        "total_reviews"
      ],
      "metadata": {
        "colab": {
          "base_uri": "https://localhost:8080/"
        },
        "id": "UuaiYqQ_zdnK",
        "outputId": "618a2b62-208c-4781-c622-c3e9bbdbda18"
      },
      "execution_count": 11,
      "outputs": [
        {
          "output_type": "execute_result",
          "data": {
            "text/plain": [
              "99046"
            ]
          },
          "metadata": {},
          "execution_count": 11
        }
      ]
    },
    {
      "cell_type": "code",
      "source": [
        "total_below5 = cleaned_help_perct_df.filter('star_rating < 5').count()\n",
        "total_below5"
      ],
      "metadata": {
        "colab": {
          "base_uri": "https://localhost:8080/"
        },
        "id": "y_d-h833zpQ0",
        "outputId": "db75e2ec-f26c-4cba-dd15-79e1031fc9e3"
      },
      "execution_count": 12,
      "outputs": [
        {
          "output_type": "execute_result",
          "data": {
            "text/plain": [
              "52679"
            ]
          },
          "metadata": {},
          "execution_count": 12
        }
      ]
    },
    {
      "cell_type": "code",
      "source": [
        "total_5_star_paid = paid_vine_df.filter('star_rating == 5').count()\n",
        "print(f'1. Percent of vine 5 star reviews: {total_5_star_paid}')\n",
        "\n",
        "total_5_star_unpaid = unpaid_vine_df.filter('star_rating == 5').count()\n",
        "print(f'2. Percent of non_vine 5 star reviews: {total_5_star_unpaid}')\n",
        "\n",
        "total_below5_paid = paid_vine_df.filter('star_rating < 5').count()\n",
        "print(f'3. Percent of vine below 5 star reviews: {total_below5_paid}')\n",
        "\n",
        "total_below5_unpaid = unpaid_vine_df.filter('star_rating < 5').count()\n",
        "print(f'4. Percent of nonvine below 5 star reviews: {total_below5_unpaid}')"
      ],
      "metadata": {
        "id": "tEjnrN0Mz1lA",
        "colab": {
          "base_uri": "https://localhost:8080/"
        },
        "outputId": "a960dfef-dd32-41ea-bec7-1c68f47e5f8c"
      },
      "execution_count": 15,
      "outputs": [
        {
          "output_type": "stream",
          "name": "stdout",
          "text": [
            "1. Percent of vine 5 star reviews: 509\n",
            "2. Percent of non_vine 5 star reviews: 45858\n",
            "3. Percent of vine below 5 star reviews: 698\n",
            "4. Percent of nonvine below 5 star reviews: 51981\n"
          ]
        }
      ]
    },
    {
      "cell_type": "code",
      "source": [
        "perct_1 = round((total_1_star / total_reviews)*100,2)\n",
        "print(f'1. Percent of total 1 star: {perct_1}%')\n",
        "\n",
        "\n",
        "perct_5 = round((total_5_star / total_reviews)*100,2)\n",
        "print(f'2. Percent of total 5 star: {perct_5}%')\n",
        "\n",
        "\n",
        "perct_5_paid = round((total_5_star_paid / paid_vine_df.count())*100,2)\n",
        "print(f'3. Percent of Vine reviews that were 5 star: {perct_5_paid}%')\n",
        "\n",
        "\n",
        "perct_5_unpaid = round((total_5_star_unpaid / unpaid_vine_df.count())*100,2)\n",
        "print(f'4. Percent of non-Vine reviews that were 5 star: {perct_5_unpaid}%')\n",
        "\n",
        "\n",
        "perct_below5_paid = round((total_below5_paid / paid_vine_df.count())*100,2)\n",
        "print(f'5. Percent of Vine reviews that below 5 star: {perct_below5_paid}%')\n",
        "\n",
        "\n",
        "perct_below5_unpaid = round((total_below5_unpaid / unpaid_vine_df.count())*100,2)\n",
        "print(f'6. Percent of non-Vine reviews that below 5 star: {perct_below5_unpaid}%')"
      ],
      "metadata": {
        "colab": {
          "base_uri": "https://localhost:8080/"
        },
        "id": "geA6YTN903XY",
        "outputId": "e8f588f0-aba0-4833-939e-8912681a4960"
      },
      "execution_count": 16,
      "outputs": [
        {
          "output_type": "stream",
          "name": "stdout",
          "text": [
            "1. Percent of total 1 star: 22.78%\n",
            "2. Percent of total 5 star: 46.81%\n",
            "3. Percent of Vine reviews that were 5 star: 42.17%\n",
            "4. Percent of non-Vine reviews that were 5 star: 46.87%\n",
            "5. Percent of Vine reviews that below 5 star: 57.83%\n",
            "6. Percent of non-Vine reviews that below 5 star: 53.13%\n"
          ]
        }
      ]
    },
    {
      "cell_type": "code",
      "source": [],
      "metadata": {
        "id": "q_lXX8ZdzroV"
      },
      "execution_count": 16,
      "outputs": []
    }
  ]
}